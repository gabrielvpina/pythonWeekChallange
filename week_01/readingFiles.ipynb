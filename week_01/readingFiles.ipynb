{
 "cells": [
  {
   "cell_type": "markdown",
   "id": "3010c82d",
   "metadata": {},
   "source": [
    "# Basic usage of import files in python code.\n",
    "This section is based on Python Official Documentation (available in https://docs.python.org/3/tutorial)"
   ]
  },
  {
   "cell_type": "markdown",
   "id": "df8abfa0",
   "metadata": {},
   "source": [
    "## Reading and Writing Files\n",
    "The most commonly used mode to read or write a file object is with `open()`."
   ]
  },
  {
   "cell_type": "code",
   "execution_count": 5,
   "id": "1dfddcc9",
   "metadata": {},
   "outputs": [
    {
     "name": "stdout",
     "output_type": "stream",
     "text": [
      "# This is a text file for coding.\n",
      "\n"
     ]
    }
   ],
   "source": [
    "f = open('test_file.txt', 'r', encoding=\"utf-8\")\n",
    "print(f.readline()) # Read the first line\n",
    "f.close() "
   ]
  },
  {
   "cell_type": "code",
   "execution_count": null,
   "id": "b442535c",
   "metadata": {},
   "outputs": [
    {
     "name": "stdout",
     "output_type": "stream",
     "text": [
      "# This is \n"
     ]
    }
   ],
   "source": [
    "f = open('test_file.txt', 'r', encoding=\"utf-8\")\n",
    "print(f.read(10)) # Read 10 first characters\n",
    "f.close() "
   ]
  },
  {
   "cell_type": "markdown",
   "id": "81c5d69e",
   "metadata": {},
   "source": [
    "The `open()` contain 3 arguments: the file name, `r` for reading, `w` for writing or `a` for any, and the `encoding` choice. Appending `b` to the mode opens the file in binary mode. Binary mode data is read and written as bytes objects. You can not specify encoding when opening file in binary mode.\n",
    "It's a good pratice use the `with` keyword before the `open()` r/w the file object."
   ]
  },
  {
   "cell_type": "code",
   "execution_count": null,
   "id": "5998922b",
   "metadata": {},
   "outputs": [
    {
     "name": "stdout",
     "output_type": "stream",
     "text": [
      "# This is a text file for coding.\n",
      "# All phrases with a '#' in start must be ignored.\n",
      "# This ficctional example show the score of students in a exam.\n",
      "# All data is separated by tabular\n",
      "student\tscoreMath\tscoreBio\tscoreGrammar\ttotalScore\n",
      "Thompson\t85\t78\t92\t255\n",
      "Jackson\t90\t81\t76\t247\n",
      "Marie\t72\t88\t85\t245\n",
      "Alice\t95\t91\t89\t275\n",
      "John\t68\t75\t70\t213\n",
      "Clarice\t82\t94\t88\t264\n"
     ]
    }
   ],
   "source": [
    "with open('test_file.txt', 'r', encoding=\"utf-8\") as f:\n",
    "    print(f.read()) # read all lines"
   ]
  },
  {
   "cell_type": "markdown",
   "id": "63f18ba7",
   "metadata": {},
   "source": [
    "# Read files line by line\n",
    "This is a key process to store data by line in a code. In this example, lines that start with '#' will be ignored and only the table will be printed."
   ]
  },
  {
   "cell_type": "code",
   "execution_count": null,
   "id": "491a3ada",
   "metadata": {},
   "outputs": [
    {
     "name": "stdout",
     "output_type": "stream",
     "text": [
      "student\tscoreMath\tscoreBio\tscoreGrammar\ttotalScore\n",
      "\n",
      "Thompson\t85\t78\t92\t255\n",
      "\n",
      "Jackson\t90\t81\t76\t247\n",
      "\n",
      "Marie\t72\t88\t85\t245\n",
      "\n",
      "Alice\t95\t91\t89\t275\n",
      "\n",
      "John\t68\t75\t70\t213\n",
      "\n",
      "Clarice\t82\t94\t88\t264\n"
     ]
    }
   ],
   "source": [
    "# Print only lines that doesn't start with '#'\n",
    "with open(\"test_file.txt\") as f:\n",
    "  for x in f:\n",
    "    if x.startswith('#'):\n",
    "      pass # ignore those lines\n",
    "    else:\n",
    "      print(x) "
   ]
  },
  {
   "cell_type": "code",
   "execution_count": null,
   "id": "5d1b2b84",
   "metadata": {},
   "outputs": [
    {
     "name": "stdout",
     "output_type": "stream",
     "text": [
      "['student', 'scoreMath', 'scoreBio', 'scoreGrammar', 'totalScore']\n",
      "['Thompson', '85', '78', '92', '255']\n",
      "['Jackson', '90', '81', '76', '247']\n",
      "['Marie', '72', '88', '85', '245']\n",
      "['Alice', '95', '91', '89', '275']\n",
      "['John', '68', '75', '70', '213']\n",
      "['Clarice', '82', '94', '88', '264']\n"
     ]
    }
   ],
   "source": [
    "# create a list of each line\n",
    "with open(\"test_file.txt\") as f:\n",
    "  for x in f:\n",
    "    if x.startswith('#'):\n",
    "      pass # ignore those lines\n",
    "    else:\n",
    "      names = x.split() # the split function without arguments use spaces as delimiters\n",
    "      print(names)"
   ]
  }
 ],
 "metadata": {
  "kernelspec": {
   "display_name": "base",
   "language": "python",
   "name": "python3"
  },
  "language_info": {
   "codemirror_mode": {
    "name": "ipython",
    "version": 3
   },
   "file_extension": ".py",
   "mimetype": "text/x-python",
   "name": "python",
   "nbconvert_exporter": "python",
   "pygments_lexer": "ipython3",
   "version": "3.12.2"
  }
 },
 "nbformat": 4,
 "nbformat_minor": 5
}
